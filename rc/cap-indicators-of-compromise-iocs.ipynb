{
 "cells": [
  {
   "cell_type": "markdown",
   "id": "d4ee9e4b",
   "metadata": {},
   "source": [
    "***\n",
    "< [Home](https://github.com/SeanOhAileasa) | [README](https://github.com/SeanOhAileasa/cap-incident-response/blob/main/README.md) >\n",
    "\n",
    "## CompTIA Cybersecurity Analyst (CySA+) - Course Material 2022\n",
    "###### Topic: ``Indicators of Compromise - IoCs``\n",
    "***"
   ]
  },
  {
   "cell_type": "markdown",
   "id": "b82b07fb",
   "metadata": {},
   "source": [
    "Course material for the ``CompTIA Cybersecurity Analyst (CySA+)`` module of the ``ICT Associate Apprenticeship (Cybersecurity)`` programme."
   ]
  },
  {
   "cell_type": "markdown",
   "id": "e7228f57",
   "metadata": {},
   "source": [
    "<a id=\"top\"></a>\n",
    "***\n",
    "## Table of Contents\n",
    "***"
   ]
  },
  {
   "cell_type": "markdown",
   "id": "c2bb5e7b",
   "metadata": {},
   "source": [
    "### [Indicators of Compromise - IoCs](#a) <br/><br/>\n",
    "\n",
    "- [Traffic Spike and DDoS-Related IoCs](#1) ``C&C Activity`` <br/><br/> \n",
    "    - [Botnet DDoS](#2) <br/><br/> \n",
    "    - [Bandwidth Consumption](#3) <br/><br/> \n",
    "        - [Distributed Reflection Denial of Service](#3) ``DRDoS`` <br/><br/> \n",
    "            - [Amplification Attack](#3) ``Amplification Factor During DDoS`` <br/><br/> \n",
    "- [Beaconing](#4) | [Advertise Presence / Establish Link](#4) ``AP``/``Beacon Management Frame`` <br/><br/> \n",
    "    - [Used by Legitimate Software/Applications](#4) <br/><br/> \n",
    "    - [``IoC``](#4) <br/><br/> \n",
    "        - [``RAT``](#4) ``Communications`` <br/><br/> \n",
    "            - [``C&C``](#4) ``Server`` <br/><br/> \n",
    "        - [Internet Relay Chat](#5) ``IRC`` <br/><br/> \n",
    "            - [Declining C&C Activity](#5) <br/><br/> \n",
    "        - [``HTTP``/``HTTPS``](#6) <br/><br/> \n",
    "            - [New Normal for C&C activity](#6) <br/><br/> \n",
    "                - [Mitigation](#6) <br/><br/> \n",
    "                    - [Implement Intercepting Proxy to Decrypt / Inspect all Traffic](#6) ``< Delivery`` <br/><br/> \n",
    "        - [Domain Name System](#7) ``DNS`` <br/><br/> \n",
    "            - [Internal DNS](#7) ``C&C Traffic Move Around Undetected`` <br/><br/> \n",
    "                - [Most DNS is Unfiltered](#7) <br/><br/> \n",
    "            - [Detect DNS Abuse](#7) <br/><br/> \n",
    "                - [Look for Multiple Repeated Attempts Consecutively](#7) <br/><br/> \n",
    "                    - [Attempting to see What it can Get Away With](#7) ``Bot`` <br/><br/> \n",
    "        - [Social Media](#8) <br/><br/> \n",
    "            - [Vector for Threat Actors](#8) <br/><br/> \n",
    "                - [Communicate Outbound without Detection](#8) | [ [Flashback Malware](https://www.intego.com/mac-security-blog/flashback-mac-malware-uses-twitter-as-command-and-control-center/) ] <br/><br/>\n",
    "        - [Cloud Services / Media Files](#9) <br/><br/>         \n",
    "            - [Cloud / Cloud-connected Files](#9) ``Establish a C&C`` <br/><br/>         \n",
    "                - [Media Formats](#9) ``.jpeg``/``.mp3``/``.mpeg`` <br/><br/>         \n",
    "                    - [Using Metadata Fields](#9) ``Embed / Send Messages Undetected`` <br/><br/> \n",
    "        - [Peer-to-Peer Communication](#10) <br/><br/> \n",
    "            - [Unintended Redirecting IP Addr to MAC Addr](#10) ``ARP Spoofing`` <br/><br/> \n",
    "                - [``IDS``](#10) ``Detect ARP Patterns`` <br/><br/> \n",
    "                    - [Search Local Cache](#10) ``Host``\n",
    "\n",
    "<hr width=50%;>"
   ]
  },
  {
   "cell_type": "markdown",
   "id": "bf2b95e2",
   "metadata": {},
   "source": [
    "***\n",
    "## END"
   ]
  },
  {
   "cell_type": "markdown",
   "id": "34aa6eb5",
   "metadata": {},
   "source": [
    "< [Table of Contents](#top) | [References](#references) >\n",
    "<a id=\"a\"></a>\n",
    "***\n",
    "### Indicators of Compromise - IoCs\n",
    "***"
   ]
  },
  {
   "cell_type": "markdown",
   "id": "173e78b5",
   "metadata": {},
   "source": [
    "> Analyze network-related IoCs\n",
    "\n",
    "> Analyze host-related IoCs\n",
    "\n",
    "> Analyze application-related IoCs\n",
    "\n",
    "> Analyze lateral movement and pivot IoCs"
   ]
  },
  {
   "cell_type": "markdown",
   "id": "461144b1",
   "metadata": {},
   "source": [
    "Effective identification of different ``IoC`` is an essential skill - the following is a list of the associated ``IoC`` with its official definition."
   ]
  },
  {
   "cell_type": "markdown",
   "id": "a2f1fe35",
   "metadata": {},
   "source": [
    "< [Table of Contents](#top) | [References](#references) >\n",
    "<a id=\"1\"></a>\n",
    "***\n",
    "###### Traffic Spike and DDoS-Related IoCs\n",
    "***"
   ]
  },
  {
   "cell_type": "markdown",
   "id": "708eb2a9",
   "metadata": {},
   "source": [
    "Distributed Denial of Service (DDoS) is an attack that uses multiple compromised hosts to overwhelm a service with request or response traffic."
   ]
  },
  {
   "cell_type": "markdown",
   "id": "03554a5d",
   "metadata": {},
   "source": [
    "< [Table of Contents](#top) | [References](#references) >\n",
    "<a id=\"2\"></a>\n",
    "***\n",
    "###### Botnet DDoS\n",
    "***"
   ]
  },
  {
   "cell_type": "markdown",
   "id": "a2de05a5",
   "metadata": {},
   "source": [
    "A traffic spike is a sharp increase in connection requests in comparison with a normal baseline."
   ]
  },
  {
   "cell_type": "markdown",
   "id": "ced0b786",
   "metadata": {},
   "source": [
    "< [Table of Contents](#top) | [References](#references) >\n",
    "<a id=\"3\"></a>\n",
    "***\n",
    "###### Bandwidth Consumption\n",
    "***"
   ]
  },
  {
   "cell_type": "markdown",
   "id": "d3ef07e9",
   "metadata": {},
   "source": [
    "Distributed Reflection Denial of Service (``DRDoS``) is a network-based attack where the attacker dramatically increases the bandwidth sent to a victim during a ``DDoS`` attack by implementing an amplification factor.\n",
    "\n",
    "- Known as an ``Amplification Attack``."
   ]
  },
  {
   "cell_type": "markdown",
   "id": "30283b02",
   "metadata": {},
   "source": [
    "< [Table of Contents](#top) | [References](#references) >\n",
    "<a id=\"4\"></a>\n",
    "***\n",
    "###### Beaconing IoCs\n",
    "***"
   ]
  },
  {
   "cell_type": "markdown",
   "id": "487a76bf",
   "metadata": {},
   "source": [
    "Beaconing is the means for a network node to advertise its presence and establish a link with other nodes, such as the beacon management frame sent by an ``AP``. \n",
    "\n",
    "Legitimate software and applications do this, but it is also associated with ``RAT`` communications with a ``C&C`` server."
   ]
  },
  {
   "cell_type": "markdown",
   "id": "8faafc04",
   "metadata": {},
   "source": [
    "< [Table of Contents](#top) | [References](#references) >\n",
    "<a id=\"5\"></a>\n",
    "***\n",
    "###### Internet Relay Chat - ``IRC``\n",
    "***"
   ]
  },
  {
   "cell_type": "markdown",
   "id": "6ec92a7e",
   "metadata": {},
   "source": [
    "IRCs were commonly used in command and control activity, but they have slowly declined over the years as their effectiveness has worn out."
   ]
  },
  {
   "cell_type": "markdown",
   "id": "dab239fc",
   "metadata": {},
   "source": [
    "< [Table of Contents](#top) | [References](#references) >\n",
    "<a id=\"6\"></a>\n",
    "***\n",
    "###### ``HTTP``/``HTTPS``\n",
    "***"
   ]
  },
  {
   "cell_type": "markdown",
   "id": "de74ee55",
   "metadata": {},
   "source": [
    "``HTTP`` is now the new normal for command and control activity, as it is much more difficult to detect with everything requiring ``HTTP`` in one form or another. \n",
    "\n",
    "One method to mitigate these types of attacks is by implementing an intercepting proxy to decrypt and inspect all traffic before its delivery."
   ]
  },
  {
   "cell_type": "markdown",
   "id": "a9684157",
   "metadata": {},
   "source": [
    "< [Table of Contents](#top) | [References](#references) >\n",
    "<a id=\"7\"></a>\n",
    "***\n",
    "###### Domain Name System - ``DNS``\n",
    "***"
   ]
  },
  {
   "cell_type": "markdown",
   "id": "677573d0",
   "metadata": {},
   "source": [
    "Internal DNS is a very popular way for C&C traffic to move around undetected, as most DNS is unfiltered. \n",
    "\n",
    "- Common method used to detect DNS abuse is to look for multiple repeated attempts consecutively, as this could be a bot attempting to see what all it can get away with."
   ]
  },
  {
   "cell_type": "markdown",
   "id": "e535154a",
   "metadata": {},
   "source": [
    "< [Table of Contents](#top) | [References](#references) >\n",
    "<a id=\"8\"></a>\n",
    "***\n",
    "###### Social Media\n",
    "***"
   ]
  },
  {
   "cell_type": "markdown",
   "id": "cd22c730",
   "metadata": {},
   "source": [
    "Social media can be used as a vector for threat actors to communicate outbound without detection.\n",
    "\n",
    "- [ [Flashback Malware](https://www.intego.com/mac-security-blog/flashback-mac-malware-uses-twitter-as-command-and-control-center/) ]"
   ]
  },
  {
   "cell_type": "markdown",
   "id": "87840341",
   "metadata": {},
   "source": [
    "< [Table of Contents](#top) | [References](#references) >\n",
    "<a id=\"9\"></a>\n",
    "***\n",
    "###### Cloud Services and Media Files\n",
    "***"
   ]
  },
  {
   "cell_type": "markdown",
   "id": "ae25b86c",
   "metadata": {},
   "source": [
    "Another common vector for beaconing ``IoC`` is by using the cloud and cloud-connected files to establish a C&C. \n",
    "\n",
    "Media formats like ``.jpeg``, ``.mp3``, and ``.mpeg`` are notorious for using metadata fields to embed and send messages undetected."
   ]
  },
  {
   "cell_type": "markdown",
   "id": "8d081b49",
   "metadata": {},
   "source": [
    "< [Table of Contents](#top) | [References](#references) >\n",
    "<a id=\"10\"></a>\n",
    "***\n",
    "###### Peer-to-Peer Communication IoCs\n",
    "***"
   ]
  },
  {
   "cell_type": "markdown",
   "id": "7953f1e8",
   "metadata": {},
   "source": [
    "When an attacker redirects an IP address to a MAC address that was not intended, this is ultimately how ``ARP`` spoofing is performed. \n",
    "\n",
    "By using your ``IDS``, you can detect ``ARP`` patterns or by searching the local cache of an affected machine."
   ]
  },
  {
   "cell_type": "markdown",
   "id": "2cc20932",
   "metadata": {},
   "source": [
    "***\n",
    "## END"
   ]
  },
  {
   "cell_type": "markdown",
   "id": "e0e42d51",
   "metadata": {},
   "source": [
    "< [Table of Contents](#top) >\n",
    "<a id=\"references\"></a>\n",
    "***\n",
    "## References\n",
    "***"
   ]
  },
  {
   "cell_type": "markdown",
   "id": "757bf6de",
   "metadata": {},
   "source": [
    "&nbsp;&nbsp;&nbsp;&nbsp;&nbsp;&nbsp;&nbsp;&nbsp;&nbsp;cybrary, \"Indicators of Compromise - IoCs,\" [cybrary.it](https://web.archive.org/web/20220724081418/https://www.cybrary.it/), n.d.."
   ]
  },
  {
   "cell_type": "markdown",
   "id": "b33c372a",
   "metadata": {},
   "source": [
    "***\n",
    "## END"
   ]
  },
  {
   "cell_type": "markdown",
   "id": "e5961b4d",
   "metadata": {},
   "source": [
    "< [Table of Contents](#top) | [References](#references) >\n",
    "<a id=\"appendix\"></a>\n",
    "***\n",
    "## Appendix\n",
    "***"
   ]
  },
  {
   "cell_type": "markdown",
   "id": "00d82a82",
   "metadata": {},
   "source": [
    "***\n",
    "## END"
   ]
  },
  {
   "cell_type": "code",
   "execution_count": 1,
   "id": "706756a2",
   "metadata": {},
   "outputs": [
    {
     "name": "stderr",
     "output_type": "stream",
     "text": [
      "C:\\Users\\SeanOhAileasa\\AppData\\Local\\Temp\\ipykernel_10480\\1322614208.py:1: DeprecationWarning: Importing display from IPython.core.display is deprecated since IPython 7.14, please import from IPython display\n",
      "  from IPython.core.display import display,HTML\n"
     ]
    },
    {
     "data": {
      "text/html": [
       "<style>.container { width:100% !important; }</style>"
      ],
      "text/plain": [
       "<IPython.core.display.HTML object>"
      ]
     },
     "metadata": {},
     "output_type": "display_data"
    }
   ],
   "source": [
    "from IPython.core.display import display,HTML\n",
    "display(HTML(\"<style>.container { width:100% !important; }</style>\"))"
   ]
  },
  {
   "cell_type": "markdown",
   "id": "899c1783",
   "metadata": {},
   "source": [
    "# END JUPYTER NOTEBOOK"
   ]
  }
 ],
 "metadata": {
  "kernelspec": {
   "display_name": "Python 3 (ipykernel)",
   "language": "python",
   "name": "python3"
  },
  "language_info": {
   "codemirror_mode": {
    "name": "ipython",
    "version": 3
   },
   "file_extension": ".py",
   "mimetype": "text/x-python",
   "name": "python",
   "nbconvert_exporter": "python",
   "pygments_lexer": "ipython3",
   "version": "3.9.12"
  }
 },
 "nbformat": 4,
 "nbformat_minor": 5
}
