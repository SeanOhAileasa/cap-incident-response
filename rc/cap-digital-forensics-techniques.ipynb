{
 "cells": [
  {
   "cell_type": "markdown",
   "id": "d4ee9e4b",
   "metadata": {},
   "source": [
    "***\n",
    "< [Home](https://github.com/SeanOhAileasa) | [README](https://github.com/SeanOhAileasa/cap-incident-response/blob/main/README.md) >\n",
    "\n",
    "## CompTIA Cybersecurity Analyst (CySA+) - Course Material 2022\n",
    "###### Topic: ``Digital Forensics Techniques``\n",
    "***"
   ]
  },
  {
   "cell_type": "markdown",
   "id": "b82b07fb",
   "metadata": {},
   "source": [
    "Course material for the ``CompTIA Cybersecurity Analyst (CySA+)`` module of the ``ICT Associate Apprenticeship (Cybersecurity)`` programme."
   ]
  },
  {
   "cell_type": "markdown",
   "id": "e7228f57",
   "metadata": {},
   "source": [
    "<a id=\"top\"></a>\n",
    "***\n",
    "## Table of Contents\n",
    "***"
   ]
  },
  {
   "cell_type": "markdown",
   "id": "c2bb5e7b",
   "metadata": {},
   "source": [
    "### [Digital Forensics Techniques](#a) <br/><br/>\n",
    "\n",
    "- [Network Forensic Tools and Techniques](#1) <br/><br/> \n",
    "    - [``tcpdump``](#1) <br/><br/> \n",
    "    - [Wireshark](#1) <br/><br/> \n",
    "    - [NetFlow](#1) <br/><br/> \n",
    "    - [Zeek](#1) <br/><br/> \n",
    "    - [Multi Router Traffic Grapher](#1) <br/><br/> \n",
    "- [Network Forensic Terms](#2) <br/><br/> \n",
    "    - [Packet Analysis](#2) <br/><br/> \n",
    "        - [Recording Data from Frames](#2) ``Passing Over Network Media`` <br/><br/> \n",
    "            - [Mirror Port](#2) ``SPAN`` <br/><br/> \n",
    "            - [Test Access Port](#2) ``TAP`` <br/><br/> \n",
    "    - [Protocol Analysis](#2) <br/><br/> \n",
    "        - [Per-protocol Utilization Statistics](#2) ``Packet Capture of Network Traffic Sampling`` <br/><br/> \n",
    "    - [Flow Analysis](#2) <br/><br/> \n",
    "        - [Network Traffic Statistics](#2) ``Sampled by a Collector`` <br/><br/> \n",
    "    - [Packet](#2) <br/><br/> \n",
    "    - [Packet](#2) <br/><br/> \n",
    "    - [Packet](#2) <br/><br/> \n",
    "- [Digital Forensic Analysts](#3) <br/><br/> \n",
    "- [Digital Forensics Procedures](#4) <br/><br/> \n",
    "    - [Legal Hold](#5) <br/><br/> \n",
    "    - [Work Product Retention](#6) | [Data Acquisition](#6) <br/><br/> \n",
    "    - [Digital Forensics Tools](#7) <br/><br/> \n",
    "- [System Memory Acquisition](#8) <br/><br/> \n",
    "- [Disk Image Acquisition](#9) <br/><br/> \n",
    "- [Hashing](#10) <br/><br/> \n",
    "    - [Tools](#11) ``CMD`` <br/><br/> \n",
    "- [File Integrity Monitoring](#12) ``FIM`` <br/><br/> \n",
    "- [Timeline Generation and Analysis](#13) <br/><br/> \n",
    "- [Forensics for Virtualization Software](#14) <br/><br/> \n",
    "- [Forensics for Mobile Devices](#15) <br/><br/> \n",
    "- [Forensics for the Cloud](#16)\n",
    "\n",
    "<hr width=50%;>"
   ]
  },
  {
   "cell_type": "markdown",
   "id": "bf2b95e2",
   "metadata": {},
   "source": [
    "***\n",
    "## END"
   ]
  },
  {
   "cell_type": "markdown",
   "id": "34aa6eb5",
   "metadata": {},
   "source": [
    "< [Table of Contents](#top) | [References](#references) >\n",
    "<a id=\"a\"></a>\n",
    "***\n",
    "### Digital Forensics Techniques\n",
    "***"
   ]
  },
  {
   "cell_type": "markdown",
   "id": "173e78b5",
   "metadata": {},
   "source": [
    "> Apply network-related forensics techniques\n",
    "\n",
    "> Identify digital forensics techniques\n",
    "\n",
    "> Utilize application-related forensics techniques\n",
    "\n",
    "> Utilize cloud forensics techniques"
   ]
  },
  {
   "cell_type": "markdown",
   "id": "2871edc5",
   "metadata": {},
   "source": [
    "Utilising digital forensics techniques, including:\n",
    "\n",
    "- Network Forensics Tools\n",
    "\n",
    "\n",
    "- System Memory Acquisition\n",
    "\n",
    "\n",
    "- Hashing\n",
    "\n",
    "\n",
    "- Timeline Generation and Analysis\n",
    "\n",
    "\n",
    "- Forensics for Virtualization Software\n",
    "\n",
    "First recaping some tools and techniques."
   ]
  },
  {
   "cell_type": "markdown",
   "id": "d2127b0c",
   "metadata": {},
   "source": [
    "< [Table of Contents](#top) | [References](#references) >\n",
    "<a id=\"1\"></a>\n",
    "***\n",
    "###### Network Forensic Tools and Techniques\n",
    "***"
   ]
  },
  {
   "cell_type": "markdown",
   "id": "c9abc222",
   "metadata": {},
   "source": [
    "- ``tcpdump``\n",
    "\n",
    "\n",
    "- Wireshark\n",
    "\n",
    "\n",
    "- NetFlow\n",
    "\n",
    "\n",
    "- Zeek (formally ``Bro``)\n",
    "\n",
    "\n",
    "- Multi Router Traffic Grapher - ``MRTG``"
   ]
  },
  {
   "cell_type": "markdown",
   "id": "eb242ff0",
   "metadata": {},
   "source": [
    "< [Table of Contents](#top) | [References](#references) >\n",
    "<a id=\"2\"></a>\n",
    "***\n",
    "###### Network Forensic Terms\n",
    "***"
   ]
  },
  {
   "cell_type": "markdown",
   "id": "15761383",
   "metadata": {},
   "source": [
    "Some key network forensic terms to remember:\n",
    "\n",
    "> Packet Analysis\n",
    "\n",
    "Recording data from frames as they pass over network media, using methods such as a mirror port or tap device.\n",
    "\n",
    "> Protocol Analysis\n",
    "\n",
    "Analysis of per-protocol utilization statistics in a packet capture of network traffic sampling.\n",
    "\n",
    "> Flow Analysis\n",
    "\n",
    "Analysis of network traffic statistics sampled by a collector."
   ]
  },
  {
   "cell_type": "markdown",
   "id": "d39eb490",
   "metadata": {},
   "source": [
    "< [Table of Contents](#top) | [References](#references) >\n",
    "<a id=\"3\"></a>\n",
    "***\n",
    "###### Digital Forensic Analysts\n",
    "***"
   ]
  },
  {
   "cell_type": "markdown",
   "id": "8fa3c7af",
   "metadata": {},
   "source": [
    "Forensics is the process of gathering and submitting computer evidence to trial. \n",
    "\n",
    "Digital evidence is latent, meaning that it must be interpreted - great care must be taken to prove that the evidence has not been tampered with or falsified.\n",
    "\n",
    "The role of a Digital Forensic Analyst is crucial to any ``CSIRT`` or ``SOC`` team - play an essential role that typically includes some of the following responsibilities:\n",
    "\n",
    "- Supporting audits and records retention\n",
    "\n",
    "\n",
    "- Ensuring compliance\n",
    "\n",
    "\n",
    "- Protecting evidence\n",
    "\n",
    "\n",
    "- Identifying sensitive data\n",
    "\n",
    "\n",
    "- Determining sensitive data exposure\n",
    "\n",
    "\n",
    "- Investigating and reconstructing security incidents\n",
    "\n",
    "\n",
    "- Protecting forensics evidence trails during an investigation"
   ]
  },
  {
   "cell_type": "markdown",
   "id": "df5293c1",
   "metadata": {},
   "source": [
    "< [Table of Contents](#top) | [References](#references) >\n",
    "<a id=\"4\"></a>\n",
    "***\n",
    "###### Digital Forensics Procedures\n",
    "***"
   ]
  },
  {
   "cell_type": "markdown",
   "id": "e403de44",
   "metadata": {},
   "source": [
    "The main overall goal for any forensic investigator is to identify, collect, analyze, and report on any given incident. \n",
    "\n",
    "Below is a further breakdown of each requirement.\n",
    "\n",
    "> Identify\n",
    "\n",
    "Secure the scene, identify the scope, and protect evidence.\n",
    "\n",
    "> Collect\n",
    "\n",
    "Ensure that proper tools and collection methods are in place as well as documenting the collection trail.\n",
    "\n",
    "> Analyze\n",
    "\n",
    "Use repeatable methods to analyze and document data.\n",
    "\n",
    "> Report\n",
    "\n",
    "Tailor reports, depending on the audience, and include important details including timelines and conclusions."
   ]
  },
  {
   "cell_type": "markdown",
   "id": "afde95f0",
   "metadata": {},
   "source": [
    "< [Table of Contents](#top) | [References](#references) >\n",
    "<a id=\"5\"></a>\n",
    "***\n",
    "###### Digital Forensics Procedures - Legal Hold\n",
    "***"
   ]
  },
  {
   "cell_type": "markdown",
   "id": "771336cb",
   "metadata": {},
   "source": [
    "Legal Hold is a process designed to preserve all relevant information when litigation is reasonably expected to occur.\n",
    "\n",
    "It is important to note that:\n",
    "\n",
    "1. Forensic examinations must be performed without bias from the professional.\n",
    "\n",
    "\n",
    "2. Any methods used during the investigation must be able to be repeated by any other third-party forensics team.\n",
    "\n",
    "\n",
    "3. Proper measures must be taken to ensure the data is not changed or altered."
   ]
  },
  {
   "cell_type": "markdown",
   "id": "f630cb66",
   "metadata": {},
   "source": [
    "< [Table of Contents](#top) | [References](#references) >\n",
    "<a id=\"6\"></a>\n",
    "***\n",
    "###### Digital Forensics Procedures - Work Product Retention - Data Acquisition\n",
    "***"
   ]
  },
  {
   "cell_type": "markdown",
   "id": "6983b9e1",
   "metadata": {},
   "source": [
    "Keep in mind in forensics investigation Work Product Retention and Data Acquisition. \n",
    "\n",
    "> Work Product Retention\n",
    "\n",
    "Is a contractual method of retaining forensics investigators, so that analysis is protected from disclosure by the work product doctrine. \n",
    "\n",
    "> Data Acquisition \n",
    "\n",
    "Is the method and tools used to create a forensically sound copy of data from a source device, such as system memory or a hard disk.\n",
    "\n",
    "In regards to data acquisition, there is a general order of operations that should be taken when collecting data, as certain data volumes are time sensitive and are subject to damage or deletion if not taken first.\n",
    "\n",
    "The order goes as follows:\n",
    "\n",
    "1. CPU and Cache Memory\n",
    "\n",
    "\n",
    "2. RAM (System Memory)\n",
    "\n",
    "\n",
    "- ``ARP`` Cache, Kernels, Processing and Routing Tables\n",
    "\n",
    "\n",
    "- Temporary Files and Memory\n",
    "\n",
    "\n",
    "3. Persistent Data Storage (``HDD``, ``SSD``, Flash Memory, etc.)\n",
    "\n",
    "\n",
    "4. Remote Logging and Monitoring\n",
    "\n",
    "\n",
    "5. Physical System Configuration and Network Layout\n",
    "\n",
    "\n",
    "6. Archival Media"
   ]
  },
  {
   "cell_type": "markdown",
   "id": "c30daf04",
   "metadata": {},
   "source": [
    "< [Table of Contents](#top) | [References](#references) >\n",
    "<a id=\"7\"></a>\n",
    "***\n",
    "###### Digital Forensics Procedures - Digital Forensics Tools\n",
    "***"
   ]
  },
  {
   "cell_type": "markdown",
   "id": "e7d19ef8",
   "metadata": {},
   "source": [
    "- [ [``EnCase``](https://www.opentext.com/products/encase-endpoint-security) ] Forensics Software\n",
    "\n",
    "\n",
    "- [ [``FTK``](https://www.exterro.com/forensic-toolkit) ] Forensic Toolkit\n",
    "\n",
    "\n",
    "- [ [``Sleuth Kit``](https://sleuthkit.org/) ]"
   ]
  },
  {
   "cell_type": "markdown",
   "id": "7051c0ee",
   "metadata": {},
   "source": [
    "< [Table of Contents](#top) | [References](#references) >\n",
    "<a id=\"8\"></a>\n",
    "***\n",
    "###### System Memory Acquisition\n",
    "***"
   ]
  },
  {
   "cell_type": "markdown",
   "id": "dd2aed05",
   "metadata": {},
   "source": [
    "When dealing with system memory, the data is very volatile - ensuring a complete capture is essential in any investigation. \n",
    "\n",
    "With this being said, there are several different ways a professional can collect system memory and they are as follows:\n",
    "\n",
    "> Live Acquisition\n",
    "\n",
    "Special hardware is required to perform a live capture while the machine is running.\n",
    "\n",
    "> Crash Dump\n",
    "\n",
    "Windows has the ability to write is memory contents to a dump file.\n",
    "\n",
    "> Hibernation File\n",
    "\n",
    "Generated when a machine is put to sleep, and the file can be recovered and decompressed for analysis.\n",
    "\n",
    "> Pagefile\n",
    "\n",
    "Holds the memory that the ``RAM`` sticks cannot as a backup."
   ]
  },
  {
   "cell_type": "markdown",
   "id": "7ddbc814",
   "metadata": {},
   "source": [
    "< [Table of Contents](#top) | [References](#references) >\n",
    "<a id=\"9\"></a>\n",
    "***\n",
    "###### Disk Image Acquisition\n",
    "***"
   ]
  },
  {
   "cell_type": "markdown",
   "id": "c91a5d20",
   "metadata": {},
   "source": [
    "Disk images are considered non-volatile storage (``HDD``, ``SSD``, ``USB``), and they can be collected in one of three methods to preserve the data.\n",
    "\n",
    "\n",
    "- Live capture by copying the data while the computer is running.\n",
    "\n",
    "\n",
    "- Static capture by shutting off the machine.\n",
    "  \n",
    "  \n",
    "- Static capture by pulling the plug.\n",
    "\n",
    "\n",
    "By performing a static acquisition by powering down the machine normally, you run the risk of alerting the threat actor and potentially alerting sensitive forensic files.\n",
    "\n",
    "One forensics tool you can use for disk image acquisition is a [ [``Write Blocker``](https://www.cru-inc.com/data-protection-topics/write-blockers/) ], which is used to prevent the capture and analysis of devices or workstations from changing data on a target disk or media."
   ]
  },
  {
   "cell_type": "markdown",
   "id": "4a652d75",
   "metadata": {},
   "source": [
    "< [Table of Contents](#top) | [References](#references) >\n",
    "<a id=\"10\"></a>\n",
    "***\n",
    "###### Hashing\n",
    "***"
   ]
  },
  {
   "cell_type": "markdown",
   "id": "eb38fbfe",
   "metadata": {},
   "source": [
    "When hashing, you can use a couple of helpful algorithms.\n",
    "\n",
    "> Secure Hash Algorithm - ``SHA``\n",
    "\n",
    "A Secure Hash Algorithm (``SHA``) is a cryptographic hashing algorithm created to address possible weaknesses in ``MDA``/``MD5`` - current version is ``SHA-2``.\n",
    "\n",
    "> Message Digest Algorithm - ``MDA``/``MD5``\n",
    "\n",
    "The Message Digest Algorithm (``MDA``/``MD5``) was designed in 1990 by Ronald Rivest, one of the fathers of modern cryptography. \n",
    "\n",
    "The most widely used version is ``MD5``, released in 1991, which uses a ``128-bit`` hash value."
   ]
  },
  {
   "cell_type": "markdown",
   "id": "bae9ffa5",
   "metadata": {},
   "source": [
    "< [Table of Contents](#top) | [References](#references) >\n",
    "<a id=\"11\"></a>\n",
    "***\n",
    "###### Hashing - Tools - ``CMD``\n",
    "***"
   ]
  },
  {
   "cell_type": "markdown",
   "id": "6a896938",
   "metadata": {},
   "source": [
    "Below are command-line tools used for hashing:\n",
    "\n",
    "- ``certutil``\n",
    "\n",
    "\n",
    "- File Checksum Integrity Verifier\n",
    "    - ``FCIV``\n",
    "\n",
    "\n",
    "- ``md5sum``\n",
    "\n",
    "\n",
    "- ``sha1sum``\n",
    "\n",
    "\n",
    "- ``sha256sum``\n",
    "\n",
    "\n",
    "- ``sha512sum``"
   ]
  },
  {
   "cell_type": "markdown",
   "id": "dae9b1b3",
   "metadata": {},
   "source": [
    "< [Table of Contents](#top) | [References](#references) >\n",
    "<a id=\"12\"></a>\n",
    "***\n",
    "###### File Integrity Monitoring - ``FIM``\n",
    "***"
   ]
  },
  {
   "cell_type": "markdown",
   "id": "ce888fab",
   "metadata": {},
   "source": [
    "[ [``FIM``](https://www.crowdstrike.com/cybersecurity-101/file-integrity-monitoring/) ] is a type of software that reviews system files to ensure that they have not been tampered with."
   ]
  },
  {
   "cell_type": "markdown",
   "id": "0689e310",
   "metadata": {},
   "source": [
    "< [Table of Contents](#top) | [References](#references) >\n",
    "<a id=\"13\"></a>\n",
    "***\n",
    "###### Timeline Generation and Analysis\n",
    "***"
   ]
  },
  {
   "cell_type": "markdown",
   "id": "9de78002",
   "metadata": {},
   "source": [
    "When generating and documenting the timeline of events, there are several terms that should be understood, as they play a major role in both the analysis and in a legal context.\n",
    "\n",
    "> ``Timeline``\n",
    "\n",
    "In forensics, a tool that shows the sequence of a file system event with a source image in a graphical format.\n",
    "\n",
    "> ``Carving``\n",
    "\n",
    "The process of extracting data from a computer when that data has no associated file system metadata.\n",
    "\n",
    "> ``Chain of Custody``\n",
    "\n",
    "The record of evidence history from collection, to presentation in court, to disposal."
   ]
  },
  {
   "cell_type": "markdown",
   "id": "93aea395",
   "metadata": {},
   "source": [
    "It is important to note that when documenting the timeframe, a constant format should be used as follows - represent the ``year - month - day - hour - minute`` the evidence was captured.\n",
    "\n",
    "```\n",
    "yyyy - mm - dd : hh : mm\n",
    "```"
   ]
  },
  {
   "cell_type": "markdown",
   "id": "33f6990c",
   "metadata": {},
   "source": [
    "< [Table of Contents](#top) | [References](#references) >\n",
    "<a id=\"14\"></a>\n",
    "***\n",
    "###### Forensics for Virtualization Software\n",
    "***"
   ]
  },
  {
   "cell_type": "markdown",
   "id": "5f1876df",
   "metadata": {},
   "source": [
    "< [Table of Contents](#top) | [References](#references) >\n",
    "<a id=\"14\"></a>\n",
    "***\n",
    "###### Forensics for Virtualization Software\n",
    "***"
   ]
  },
  {
   "cell_type": "markdown",
   "id": "dd740958",
   "metadata": {},
   "source": [
    "There are some advantages and disadvantages that come with using virtualization software as it pertains to forensics. \n",
    "\n",
    "The following are a few obvious examples of both:\n",
    "\n",
    "- Process and memory analysis are streamlined and easier to capture without having physical access by using either ``VM`` introspection or save state files collection.\n",
    "\n",
    "\n",
    "- Persistent data collection can be accomplished in the same manner as a physical machine - snapshot images can be referenced as well if the latest is corrupt.\n",
    "\n",
    "\n",
    "- File Carving is challenging due to the high rewrite and fragmentation rates of virtualization solutions.\n",
    "\n",
    "\n",
    "- System logs may be lost, as most VMs are spun up and down as needed, thus destroying any local logging along with them."
   ]
  },
  {
   "cell_type": "markdown",
   "id": "0c2a6127",
   "metadata": {},
   "source": [
    "< [Table of Contents](#top) | [References](#references) >\n",
    "<a id=\"15\"></a>\n",
    "***\n",
    "###### Forensics for Mobile Devices\n",
    "***"
   ]
  },
  {
   "cell_type": "markdown",
   "id": "642193c1",
   "metadata": {},
   "source": [
    "Mobile devices are structured differently and require specialized tools in order to capture the necessary data for forensic investigation. \n",
    "\n",
    "Some of these tools include ``Cellebrite``, ``EnCase``, ``AccessData``, ``MPE+``, ``Oxygen``, and ``MSAB``.\n",
    "\n",
    "Extraction methods for mobile devices include:\n",
    "\n",
    "> Manual Extraction\n",
    "\n",
    "Using native controls on the device to navigate and send data.\n",
    "\n",
    "> Logical Extraction\n",
    "\n",
    "Using vendor tools to pull the data.\n",
    "\n",
    "> File System Extraction\n",
    "\n",
    "Making a copy of the system to search on later.\n",
    "\n",
    "> Call Data Extraction\n",
    "\n",
    "Information around ``SMS`` and calls located on the ``SIM`` card.\n",
    "\n",
    "- Cellular service providers may also be able to provide some additional data around the device including ``SMS``, voicemail, calls, images, IP addresses, and geolocation data."
   ]
  },
  {
   "cell_type": "markdown",
   "id": "c085d70c",
   "metadata": {},
   "source": [
    "< [Table of Contents](#top) | [References](#references) >\n",
    "<a id=\"16\"></a>\n",
    "***\n",
    "###### Forensics for the Cloud\n",
    "***"
   ]
  },
  {
   "cell_type": "markdown",
   "id": "e76796e3",
   "metadata": {},
   "source": [
    "Operating in the cloud has its advantages, but from a forensic standpoint, it is a nightmare. \n",
    "\n",
    "Due to the nature of the cloud, resources are quickly spun up and decommissioned in a rapid fashion, thus removing any chance of data recovery. \n",
    "\n",
    "To establish a ``Chain of Custody``, you have to rely on the cloud provider's records and note taking when they provide you with data - can be a stalemate in the court of law and could lead to evidence being thrown out."
   ]
  },
  {
   "cell_type": "markdown",
   "id": "2cc20932",
   "metadata": {},
   "source": [
    "***\n",
    "## END"
   ]
  },
  {
   "cell_type": "markdown",
   "id": "e0e42d51",
   "metadata": {},
   "source": [
    "< [Table of Contents](#top) >\n",
    "<a id=\"references\"></a>\n",
    "***\n",
    "## References\n",
    "***"
   ]
  },
  {
   "cell_type": "markdown",
   "id": "757bf6de",
   "metadata": {},
   "source": [
    "&nbsp;&nbsp;&nbsp;&nbsp;&nbsp;&nbsp;&nbsp;&nbsp;&nbsp;cybrary, \"Digital Forensics Techniques,\" [cybrary.it](https://web.archive.org/web/20220724081418/https://www.cybrary.it/), n.d.."
   ]
  },
  {
   "cell_type": "markdown",
   "id": "b33c372a",
   "metadata": {},
   "source": [
    "***\n",
    "## END"
   ]
  },
  {
   "cell_type": "markdown",
   "id": "e5961b4d",
   "metadata": {},
   "source": [
    "< [Table of Contents](#top) | [References](#references) >\n",
    "<a id=\"appendix\"></a>\n",
    "***\n",
    "## Appendix\n",
    "***"
   ]
  },
  {
   "cell_type": "markdown",
   "id": "00d82a82",
   "metadata": {},
   "source": [
    "***\n",
    "## END"
   ]
  },
  {
   "cell_type": "code",
   "execution_count": 1,
   "id": "706756a2",
   "metadata": {},
   "outputs": [
    {
     "data": {
      "text/html": [
       "<style>.container { width:100% !important; }</style>"
      ],
      "text/plain": [
       "<IPython.core.display.HTML object>"
      ]
     },
     "metadata": {},
     "output_type": "display_data"
    }
   ],
   "source": [
    "from IPython.display import display,HTML\n",
    "display(HTML(\"<style>.container { width:100% !important; }</style>\"))"
   ]
  },
  {
   "cell_type": "markdown",
   "id": "899c1783",
   "metadata": {},
   "source": [
    "# END JUPYTER NOTEBOOK"
   ]
  }
 ],
 "metadata": {
  "kernelspec": {
   "display_name": "Python 3 (ipykernel)",
   "language": "python",
   "name": "python3"
  },
  "language_info": {
   "codemirror_mode": {
    "name": "ipython",
    "version": 3
   },
   "file_extension": ".py",
   "mimetype": "text/x-python",
   "name": "python",
   "nbconvert_exporter": "python",
   "pygments_lexer": "ipython3",
   "version": "3.9.12"
  }
 },
 "nbformat": 4,
 "nbformat_minor": 5
}
